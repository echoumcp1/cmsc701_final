{
 "cells": [
  {
   "cell_type": "code",
   "execution_count": 1,
   "metadata": {},
   "outputs": [
    {
     "data": {
      "text/html": [
       "<div>\n",
       "<style scoped>\n",
       "    .dataframe tbody tr th:only-of-type {\n",
       "        vertical-align: middle;\n",
       "    }\n",
       "\n",
       "    .dataframe tbody tr th {\n",
       "        vertical-align: top;\n",
       "    }\n",
       "\n",
       "    .dataframe thead th {\n",
       "        text-align: right;\n",
       "    }\n",
       "</style>\n",
       "<table border=\"1\" class=\"dataframe\">\n",
       "  <thead>\n",
       "    <tr style=\"text-align: right;\">\n",
       "      <th></th>\n",
       "      <th>rowID</th>\n",
       "      <th>sequence</th>\n",
       "      <th>description</th>\n",
       "      <th>group</th>\n",
       "      <th>genus</th>\n",
       "      <th>species_epithet</th>\n",
       "      <th>similarity</th>\n",
       "      <th>elapsed_time</th>\n",
       "    </tr>\n",
       "  </thead>\n",
       "  <tbody>\n",
       "    <tr>\n",
       "      <th>0</th>\n",
       "      <td>0</td>\n",
       "      <td>CAGCGGCGTCCCCACGCTACTGATGGCACGCACAGACGCACAGGCG...</td>\n",
       "      <td>NZ_AYSW01000002.1 Robbsia andropogonis Ba3549 ...</td>\n",
       "      <td>bacteria</td>\n",
       "      <td>Robbsia</td>\n",
       "      <td>andropogonis</td>\n",
       "      <td>0.778842</td>\n",
       "      <td>0.65778</td>\n",
       "    </tr>\n",
       "  </tbody>\n",
       "</table>\n",
       "</div>"
      ],
      "text/plain": [
       "   rowID                                           sequence  \\\n",
       "0      0  CAGCGGCGTCCCCACGCTACTGATGGCACGCACAGACGCACAGGCG...   \n",
       "\n",
       "                                         description     group    genus  \\\n",
       "0  NZ_AYSW01000002.1 Robbsia andropogonis Ba3549 ...  bacteria  Robbsia   \n",
       "\n",
       "  species_epithet  similarity  elapsed_time  \n",
       "0    andropogonis    0.778842       0.65778  "
      ]
     },
     "execution_count": 1,
     "metadata": {},
     "output_type": "execute_result"
    }
   ],
   "source": [
    "import pandas as pd\n",
    "\n",
    "df = pd.read_csv('./sub_vs_main_similarity.csv')\n",
    "\n",
    "df.head(1)"
   ]
  },
  {
   "cell_type": "code",
   "execution_count": 2,
   "metadata": {},
   "outputs": [],
   "source": [
    "similarities = list(df['similarity'])\n",
    "\n",
    "for ele in similarities:\n",
    "    if ele < 0.5:\n",
    "        print(ele)"
   ]
  },
  {
   "cell_type": "code",
   "execution_count": 3,
   "metadata": {},
   "outputs": [
    {
     "data": {
      "text/html": [
       "<div>\n",
       "<style scoped>\n",
       "    .dataframe tbody tr th:only-of-type {\n",
       "        vertical-align: middle;\n",
       "    }\n",
       "\n",
       "    .dataframe tbody tr th {\n",
       "        vertical-align: top;\n",
       "    }\n",
       "\n",
       "    .dataframe thead th {\n",
       "        text-align: right;\n",
       "    }\n",
       "</style>\n",
       "<table border=\"1\" class=\"dataframe\">\n",
       "  <thead>\n",
       "    <tr style=\"text-align: right;\">\n",
       "      <th></th>\n",
       "      <th>rowID</th>\n",
       "      <th>sequence</th>\n",
       "      <th>description</th>\n",
       "      <th>start_pos</th>\n",
       "      <th>end_pos</th>\n",
       "      <th>fasta_url</th>\n",
       "      <th>original_url</th>\n",
       "      <th>group</th>\n",
       "      <th>genus</th>\n",
       "      <th>species_epithet</th>\n",
       "      <th>set</th>\n",
       "    </tr>\n",
       "  </thead>\n",
       "  <tbody>\n",
       "    <tr>\n",
       "      <th>0</th>\n",
       "      <td>0</td>\n",
       "      <td>CAGCGGCGTCCCCACGCTACTGATGGCACGCACAGACGCACAGGCG...</td>\n",
       "      <td>NZ_AYSW01000002.1 Robbsia andropogonis Ba3549 ...</td>\n",
       "      <td>0</td>\n",
       "      <td>6200</td>\n",
       "      <td>https://ftp.ncbi.nlm.nih.gov/genomes/all/GCF/0...</td>\n",
       "      <td>https://ftp.ncbi.nlm.nih.gov/genomes/refseq/ba...</td>\n",
       "      <td>bacteria</td>\n",
       "      <td>Robbsia</td>\n",
       "      <td>andropogonis</td>\n",
       "      <td>train</td>\n",
       "    </tr>\n",
       "  </tbody>\n",
       "</table>\n",
       "</div>"
      ],
      "text/plain": [
       "   rowID                                           sequence  \\\n",
       "0      0  CAGCGGCGTCCCCACGCTACTGATGGCACGCACAGACGCACAGGCG...   \n",
       "\n",
       "                                         description  start_pos  end_pos  \\\n",
       "0  NZ_AYSW01000002.1 Robbsia andropogonis Ba3549 ...          0     6200   \n",
       "\n",
       "                                           fasta_url  \\\n",
       "0  https://ftp.ncbi.nlm.nih.gov/genomes/all/GCF/0...   \n",
       "\n",
       "                                        original_url     group    genus  \\\n",
       "0  https://ftp.ncbi.nlm.nih.gov/genomes/refseq/ba...  bacteria  Robbsia   \n",
       "\n",
       "  species_epithet    set  \n",
       "0    andropogonis  train  "
      ]
     },
     "execution_count": 3,
     "metadata": {},
     "output_type": "execute_result"
    }
   ],
   "source": [
    "df1 = pd.read_csv('./genomic_species.csv')\n",
    "df1.head(1)"
   ]
  },
  {
   "cell_type": "code",
   "execution_count": 4,
   "metadata": {},
   "outputs": [
    {
     "data": {
      "text/plain": [
       "{6200}"
      ]
     },
     "execution_count": 4,
     "metadata": {},
     "output_type": "execute_result"
    }
   ],
   "source": [
    "lengths = [len(ele) for ele in list(df1['sequence'])]\n",
    "set(lengths)"
   ]
  },
  {
   "cell_type": "code",
   "execution_count": 16,
   "metadata": {},
   "outputs": [],
   "source": [
    "import os\n",
    "import re\n",
    "import pandas as pd\n",
    "\n",
    "def read_all_csvs(folder_path):\n",
    "    # 1) List all sizes, then sort by descending length so \"1500\" comes before \"150\"\n",
    "    sizes = ['50','100','150','200','250','300','1000','1500','2000','2500','3000']\n",
    "    sizes = sorted(sizes, key=lambda x: -len(x))\n",
    "\n",
    "    # 2) Build a regex that won't match if there's a digit directly before or after\n",
    "    size_pattern = re.compile(r'(?<!\\d)(' + '|'.join(sizes) + r')(?!\\d)')\n",
    "\n",
    "    dataframes = []\n",
    "    for root, dirs, files in os.walk(folder_path):\n",
    "        for fname in files:\n",
    "            if fname.lower().endswith('.csv'):\n",
    "                m = size_pattern.search(fname)\n",
    "                if m:\n",
    "                    full = os.path.join(root, fname)\n",
    "                    df   = pd.read_csv(full)\n",
    "                    df['size'] = int(m.group(1))\n",
    "                    dataframes.append(df)\n",
    "\n",
    "    return dataframes\n",
    "\n",
    "# Example usage:\n",
    "folder = './cmsc701_final-main/data1'\n",
    "dfs = read_all_csvs(folder)\n",
    "# dfs is now a list of pandas.DataFrame objects, one per CSV file\n"
   ]
  },
  {
   "cell_type": "code",
   "execution_count": 13,
   "metadata": {},
   "outputs": [
    {
     "data": {
      "text/plain": [
       "11"
      ]
     },
     "execution_count": 13,
     "metadata": {},
     "output_type": "execute_result"
    }
   ],
   "source": [
    "len(dfs)"
   ]
  },
  {
   "cell_type": "code",
   "execution_count": 17,
   "metadata": {},
   "outputs": [
    {
     "data": {
      "text/html": [
       "<div>\n",
       "<style scoped>\n",
       "    .dataframe tbody tr th:only-of-type {\n",
       "        vertical-align: middle;\n",
       "    }\n",
       "\n",
       "    .dataframe tbody tr th {\n",
       "        vertical-align: top;\n",
       "    }\n",
       "\n",
       "    .dataframe thead th {\n",
       "        text-align: right;\n",
       "    }\n",
       "</style>\n",
       "<table border=\"1\" class=\"dataframe\">\n",
       "  <thead>\n",
       "    <tr style=\"text-align: right;\">\n",
       "      <th></th>\n",
       "      <th>Unnamed: 0</th>\n",
       "      <th>label</th>\n",
       "      <th>subsequence</th>\n",
       "      <th>description</th>\n",
       "      <th>group</th>\n",
       "      <th>genus</th>\n",
       "      <th>species_epithet</th>\n",
       "      <th>size</th>\n",
       "    </tr>\n",
       "  </thead>\n",
       "  <tbody>\n",
       "    <tr>\n",
       "      <th>0</th>\n",
       "      <td>0</td>\n",
       "      <td>1</td>\n",
       "      <td>GGACCCTGCAAACGCCGTGCTCCGTGTTGCCGTGGCCGGCGTGTCA...</td>\n",
       "      <td>NZ_AYSW01000002.1 Robbsia andropogonis Ba3549 ...</td>\n",
       "      <td>bacteria</td>\n",
       "      <td>Robbsia</td>\n",
       "      <td>andropogonis</td>\n",
       "      <td>100</td>\n",
       "    </tr>\n",
       "  </tbody>\n",
       "</table>\n",
       "</div>"
      ],
      "text/plain": [
       "   Unnamed: 0  label                                        subsequence  \\\n",
       "0           0      1  GGACCCTGCAAACGCCGTGCTCCGTGTTGCCGTGGCCGGCGTGTCA...   \n",
       "\n",
       "                                         description     group    genus  \\\n",
       "0  NZ_AYSW01000002.1 Robbsia andropogonis Ba3549 ...  bacteria  Robbsia   \n",
       "\n",
       "  species_epithet  size  \n",
       "0    andropogonis   100  "
      ]
     },
     "execution_count": 17,
     "metadata": {},
     "output_type": "execute_result"
    }
   ],
   "source": [
    "combined_df = pd.concat(dfs, ignore_index=True)\n",
    "combined_df.head(1)"
   ]
  },
  {
   "cell_type": "code",
   "execution_count": 18,
   "metadata": {},
   "outputs": [
    {
     "data": {
      "text/plain": [
       "{50, 100, 150, 200, 250, 300, 1000, 1500, 2000, 2500, 3000}"
      ]
     },
     "execution_count": 18,
     "metadata": {},
     "output_type": "execute_result"
    }
   ],
   "source": [
    "set(combined_df['size'])"
   ]
  },
  {
   "cell_type": "code",
   "execution_count": 19,
   "metadata": {},
   "outputs": [],
   "source": [
    "df2 = combined_df.drop(columns=[\"subsequence\", \"description\"])"
   ]
  },
  {
   "cell_type": "code",
   "execution_count": 20,
   "metadata": {},
   "outputs": [],
   "source": [
    "df2.to_csv('rows.csv')"
   ]
  },
  {
   "cell_type": "code",
   "execution_count": 10,
   "metadata": {},
   "outputs": [
    {
     "data": {
      "text/plain": [
       "93500"
      ]
     },
     "execution_count": 10,
     "metadata": {},
     "output_type": "execute_result"
    }
   ],
   "source": [
    "len(combined_df)"
   ]
  },
  {
   "cell_type": "code",
   "execution_count": 11,
   "metadata": {},
   "outputs": [],
   "source": [
    "combined_df.to_csv('./combined_data1.csv')"
   ]
  },
  {
   "cell_type": "code",
   "execution_count": null,
   "metadata": {},
   "outputs": [
    {
     "name": "stdout",
     "output_type": "stream",
     "text": [
      "712\n",
      "848\n",
      "Wrote 8500 subsequences to ./genomic_species_subseq.csv\n"
     ]
    }
   ],
   "source": [
    "import pandas as pd\n",
    "import numpy as np\n",
    "\n",
    "# 1) parameters\n",
    "input_csv  = \"./genomic_species.csv\"\n",
    "output_csv = \"./genomic_species_subseq.csv\"\n",
    "lengths    = [50, 100, 150, 200, 250, 300, 400, 500, 1000, 2000]  # note: 100 appears twice if you really want two samples of length 100\n",
    "\n",
    "# 2) load original data\n",
    "df = pd.read_csv(input_csv)\n",
    "print(len(set(list(df['species_epithet']))))\n",
    "print(len(set(list(df['genus']))))\n",
    "out_rows = []\n",
    "\n",
    "# 3) for each seq, sample one random subseq per desired length\n",
    "for _, row in df.iterrows():\n",
    "    seq   = row[\"sequence\"]\n",
    "    label = row[\"genus\"]\n",
    "    group = row['group']\n",
    "    species_epithet = row['species_epithet']\n",
    "    L     = len(seq)\n",
    "    for l in lengths:\n",
    "        if L >= l:\n",
    "            start = np.random.randint(0, L - l + 1)\n",
    "            sub   = seq[start : start + l]\n",
    "            out_rows.append({\"sequence\": sub, \"genus\": label, \"group\": group, 'species_epithet': species_epithet})\n",
    "        else:\n",
    "            # skip lengths longer than the sequence\n",
    "            pass\n",
    "\n",
    "# 4) save new training file\n",
    "new_df = pd.DataFrame(out_rows)\n",
    "new_df.to_csv(output_csv, index=False)\n",
    "print(f\"Wrote {len(new_df)} subsequences to {output_csv}\")\n"
   ]
  },
  {
   "cell_type": "code",
   "execution_count": 6,
   "metadata": {},
   "outputs": [
    {
     "name": "stdout",
     "output_type": "stream",
     "text": [
      "# species_epithet: 712\n",
      "# genus:          848\n",
      "Wrote 284750 subsequences to ./genomic_species_subseq.csv\n"
     ]
    }
   ],
   "source": [
    "import pandas as pd\n",
    "import numpy as np\n",
    "\n",
    "# 1) parameters\n",
    "input_csv  = \"./genomic_species.csv\"\n",
    "output_csv = \"./genomic_species_subseq.csv\"\n",
    "lengths    = [50, 100, 150, 200, 250, 300, 400, 500, 1000, 2000]\n",
    "\n",
    "# 2) load original data\n",
    "df = pd.read_csv(input_csv)\n",
    "print(f\"# species_epithet: {df['species_epithet'].nunique()}\")\n",
    "print(f\"# genus:          {df['genus'].nunique()}\")\n",
    "\n",
    "out_rows = []\n",
    "\n",
    "# 3) for each seq, sample one random subseq per fixed length…\n",
    "#    …and one extra subseq for each multiple-of-6 from 6 to 500 (but ≥50)\n",
    "for _, row in df.iterrows():\n",
    "    seq             = row[\"sequence\"]\n",
    "    genus           = row[\"genus\"]\n",
    "    group           = row[\"group\"]\n",
    "    species_epithet = row[\"species_epithet\"]\n",
    "    L               = len(seq)\n",
    "\n",
    "    # original lengths\n",
    "    for l in lengths:\n",
    "        if L >= l:\n",
    "            start = np.random.randint(0, L - l + 1)\n",
    "            sub   = seq[start : start + l]\n",
    "            out_rows.append({\n",
    "                \"sequence\":        sub,\n",
    "                \"genus\":           genus,\n",
    "                \"group\":           group,\n",
    "                \"species_epithet\": species_epithet,\n",
    "            })\n",
    "\n",
    "    # extra multiples-of-6 up to 500, but only if ≥50\n",
    "    max_augment = min(L, 2000)\n",
    "    for l in range(6, max_augment + 1, 6):\n",
    "        if l >= 50:\n",
    "            start = np.random.randint(0, L - l + 1)\n",
    "            sub   = seq[start : start + l]\n",
    "            out_rows.append({\n",
    "                \"sequence\":        sub,\n",
    "                \"genus\":           genus,\n",
    "                \"group\":           group,\n",
    "                \"species_epithet\": species_epithet,\n",
    "            })\n",
    "\n",
    "# 4) save augmented file\n",
    "new_df = pd.DataFrame(out_rows)\n",
    "new_df.to_csv(output_csv, index=False)\n",
    "print(f\"Wrote {len(new_df)} subsequences to {output_csv}\")"
   ]
  },
  {
   "cell_type": "code",
   "execution_count": 5,
   "metadata": {},
   "outputs": [
    {
     "data": {
      "text/plain": [
       "712"
      ]
     },
     "execution_count": 5,
     "metadata": {},
     "output_type": "execute_result"
    }
   ],
   "source": [
    "len(set(new_df[\"species_epithet\"]))"
   ]
  }
 ],
 "metadata": {
  "kernelspec": {
   "display_name": "videoscore",
   "language": "python",
   "name": "python3"
  },
  "language_info": {
   "codemirror_mode": {
    "name": "ipython",
    "version": 3
   },
   "file_extension": ".py",
   "mimetype": "text/x-python",
   "name": "python",
   "nbconvert_exporter": "python",
   "pygments_lexer": "ipython3",
   "version": "3.9.21"
  }
 },
 "nbformat": 4,
 "nbformat_minor": 2
}
